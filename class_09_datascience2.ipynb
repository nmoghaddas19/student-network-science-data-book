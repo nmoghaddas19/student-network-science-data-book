{
 "cells": [
  {
   "cell_type": "markdown",
   "id": "4685dc60",
   "metadata": {},
   "source": [
    "# Class 9: Data Science 2 — Querying SQL Tables for Network Construction"
   ]
  },
  {
   "cell_type": "markdown",
   "id": "59666d14-5d63-4d92-94d3-6bea51a70597",
   "metadata": {},
   "source": [
    "1. Come in. Sit down. Open Teams.\n",
    "2. Make sure your notebook from last class is saved.\n",
    "3. Open up the Jupyter Lab server.\n",
    "4. Open up the Jupyter Lab terminal.\n",
    "5. Activate Conda: `module load anaconda3/2022.05`\n",
    "6. Activate the shared virtual environment: `source activate /courses/PHYS7332.202510/shared/phys7332-env/`\n",
    "7. Run `python3 git_fixer2.py`\n",
    "8. Github:\n",
    "    - git status (figure out what files have changed)\n",
    "    - git add ... (add the file that you changed, aka the `_MODIFIED` one(s))\n",
    "    - git commit -m \"your changes\"\n",
    "    - git push origin main\n",
    "________"
   ]
  },
  {
   "cell_type": "markdown",
   "id": "d5a89642",
   "metadata": {},
   "source": [
    "## Goals of today's class\n",
    "1. Get a bunch of reps in using SQL to learn about a dataset.\n",
    "2. Use SQL queries in concert with network science to characterize a network."
   ]
  },
  {
   "cell_type": "markdown",
   "id": "7421931a-6c69-4030-88a8-3b27f4f3b954",
   "metadata": {},
   "source": [
    "## Today's Dataset\n",
    "\n",
    "Today we're going to focus on getting a lot of reps in in order to learn things about our dataset. It will involve a lot of hands-on coding and less of me talking at you. \n",
    "\n",
    "The dataset we'll be using today comes from SNAP; it's the [Reddit Hyperlinks dataset](https://snap.stanford.edu/data/soc-RedditHyperlinks.html). The paper that arose from this dataset, by Kumar et al., can be found [here](https://cs.stanford.edu/~srijan/pubs/conflict-paper-www18.pdf). \n",
    "\n",
    "Posts in one subreddit can link out to another subreddit for myriad reasons, including hatred, shared interests, and many things in between. I've somewhat simplified the dataset we'll be working with today, but it has some interesting elements nonetheless. For one, each link has a `TIMESTAMP` attribute that indicates when the hyperlink was created. There's also a `LINK_SENTIMENT` attribute that indicates whether the sentiment of the post or title that contained the link was positive (1) or negative (-1). The `link_source` attribute indicates whether the link came from the title or the body of the post. \n",
    "\n",
    "First let's get connected to our database again. "
   ]
  },
  {
   "cell_type": "code",
   "execution_count": 1,
   "id": "2be577d3-4bb0-4566-9b5c-9ec2ceba5d6c",
   "metadata": {
    "mystnb": {
     "remove_code_outputs": true
    },
    "slideshow": {
     "slide_type": ""
    },
    "tags": []
   },
   "outputs": [],
   "source": [
    "from sqlalchemy import create_engine\n",
    "import pandas as pd\n",
    "\n",
    "my_creds = []\n",
    "with open('../../../shared/student_mysql_credentials.txt', 'r') as f:\n",
    "    for line in f.readlines():\n",
    "        my_creds.append(line.strip())\n",
    "\n",
    "hostname=\"mysql-0005\"\n",
    "dbname=\"PHYS7332\"\n",
    "uname=my_creds[0]\n",
    "pwd=my_creds[1]\n",
    "\n",
    "engine = create_engine(\"mysql+pymysql://{user}:{pw}@{host}/{db}\"\n",
    "                           .format(host=hostname, db=dbname,\n",
    "                                   user=uname,pw=pwd))\n"
   ]
  },
  {
   "cell_type": "markdown",
   "id": "26fd608c-ec04-4bda-8a1a-fcd720f280e9",
   "metadata": {},
   "source": [
    "### Looking at the data\n",
    "Next, we'll take a look at the dataset. Let's look at the first 10 rows just to get a sense of what the data looks like."
   ]
  },
  {
   "cell_type": "code",
   "execution_count": 2,
   "id": "64c34bd2-ff16-4efe-acd9-8e01d0402be7",
   "metadata": {
    "mystnb": {
     "remove_code_outputs": true
    },
    "slideshow": {
     "slide_type": ""
    },
    "tags": []
   },
   "outputs": [
    {
     "data": {
      "text/html": [
       "<div>\n",
       "<style scoped>\n",
       "    .dataframe tbody tr th:only-of-type {\n",
       "        vertical-align: middle;\n",
       "    }\n",
       "\n",
       "    .dataframe tbody tr th {\n",
       "        vertical-align: top;\n",
       "    }\n",
       "\n",
       "    .dataframe thead th {\n",
       "        text-align: right;\n",
       "    }\n",
       "</style>\n",
       "<table border=\"1\" class=\"dataframe\">\n",
       "  <thead>\n",
       "    <tr style=\"text-align: right;\">\n",
       "      <th></th>\n",
       "      <th>index</th>\n",
       "      <th>SOURCE_SUBREDDIT</th>\n",
       "      <th>TARGET_SUBREDDIT</th>\n",
       "      <th>POST_ID</th>\n",
       "      <th>TIMESTAMP</th>\n",
       "      <th>LINK_SENTIMENT</th>\n",
       "      <th>link_source</th>\n",
       "    </tr>\n",
       "  </thead>\n",
       "  <tbody>\n",
       "    <tr>\n",
       "      <th>0</th>\n",
       "      <td>0</td>\n",
       "      <td>leagueoflegends</td>\n",
       "      <td>teamredditteams</td>\n",
       "      <td>1u4nrps</td>\n",
       "      <td>2013-12-31 16:39:58</td>\n",
       "      <td>1</td>\n",
       "      <td>body</td>\n",
       "    </tr>\n",
       "    <tr>\n",
       "      <th>1</th>\n",
       "      <td>1</td>\n",
       "      <td>theredlion</td>\n",
       "      <td>soccer</td>\n",
       "      <td>1u4qkd</td>\n",
       "      <td>2013-12-31 18:18:37</td>\n",
       "      <td>-1</td>\n",
       "      <td>body</td>\n",
       "    </tr>\n",
       "    <tr>\n",
       "      <th>2</th>\n",
       "      <td>2</td>\n",
       "      <td>inlandempire</td>\n",
       "      <td>bikela</td>\n",
       "      <td>1u4qlzs</td>\n",
       "      <td>2014-01-01 14:54:35</td>\n",
       "      <td>1</td>\n",
       "      <td>body</td>\n",
       "    </tr>\n",
       "    <tr>\n",
       "      <th>3</th>\n",
       "      <td>3</td>\n",
       "      <td>nfl</td>\n",
       "      <td>cfb</td>\n",
       "      <td>1u4sjvs</td>\n",
       "      <td>2013-12-31 17:37:55</td>\n",
       "      <td>1</td>\n",
       "      <td>body</td>\n",
       "    </tr>\n",
       "    <tr>\n",
       "      <th>4</th>\n",
       "      <td>4</td>\n",
       "      <td>playmygame</td>\n",
       "      <td>gamedev</td>\n",
       "      <td>1u4w5ss</td>\n",
       "      <td>2014-01-01 02:51:13</td>\n",
       "      <td>1</td>\n",
       "      <td>body</td>\n",
       "    </tr>\n",
       "    <tr>\n",
       "      <th>5</th>\n",
       "      <td>5</td>\n",
       "      <td>dogemarket</td>\n",
       "      <td>dogecoin</td>\n",
       "      <td>1u4w7bs</td>\n",
       "      <td>2013-12-31 18:35:44</td>\n",
       "      <td>1</td>\n",
       "      <td>body</td>\n",
       "    </tr>\n",
       "    <tr>\n",
       "      <th>6</th>\n",
       "      <td>6</td>\n",
       "      <td>locationbot</td>\n",
       "      <td>legaladvice</td>\n",
       "      <td>1u4wfes</td>\n",
       "      <td>2014-01-07 20:17:41</td>\n",
       "      <td>1</td>\n",
       "      <td>body</td>\n",
       "    </tr>\n",
       "    <tr>\n",
       "      <th>7</th>\n",
       "      <td>7</td>\n",
       "      <td>indiefied</td>\n",
       "      <td>aww</td>\n",
       "      <td>1u50pos</td>\n",
       "      <td>2014-03-03 17:00:35</td>\n",
       "      <td>1</td>\n",
       "      <td>body</td>\n",
       "    </tr>\n",
       "    <tr>\n",
       "      <th>8</th>\n",
       "      <td>8</td>\n",
       "      <td>posthardcore</td>\n",
       "      <td>bestof2013</td>\n",
       "      <td>1u5ccus</td>\n",
       "      <td>2013-12-31 23:16:20</td>\n",
       "      <td>1</td>\n",
       "      <td>body</td>\n",
       "    </tr>\n",
       "    <tr>\n",
       "      <th>9</th>\n",
       "      <td>9</td>\n",
       "      <td>posthardcore</td>\n",
       "      <td>corejerk</td>\n",
       "      <td>1u5ccus</td>\n",
       "      <td>2013-12-31 23:16:20</td>\n",
       "      <td>1</td>\n",
       "      <td>body</td>\n",
       "    </tr>\n",
       "  </tbody>\n",
       "</table>\n",
       "</div>"
      ],
      "text/plain": [
       "   index SOURCE_SUBREDDIT TARGET_SUBREDDIT  POST_ID            TIMESTAMP  \\\n",
       "0      0  leagueoflegends  teamredditteams  1u4nrps  2013-12-31 16:39:58   \n",
       "1      1       theredlion           soccer   1u4qkd  2013-12-31 18:18:37   \n",
       "2      2     inlandempire           bikela  1u4qlzs  2014-01-01 14:54:35   \n",
       "3      3              nfl              cfb  1u4sjvs  2013-12-31 17:37:55   \n",
       "4      4       playmygame          gamedev  1u4w5ss  2014-01-01 02:51:13   \n",
       "5      5       dogemarket         dogecoin  1u4w7bs  2013-12-31 18:35:44   \n",
       "6      6      locationbot      legaladvice  1u4wfes  2014-01-07 20:17:41   \n",
       "7      7        indiefied              aww  1u50pos  2014-03-03 17:00:35   \n",
       "8      8     posthardcore       bestof2013  1u5ccus  2013-12-31 23:16:20   \n",
       "9      9     posthardcore         corejerk  1u5ccus  2013-12-31 23:16:20   \n",
       "\n",
       "   LINK_SENTIMENT link_source  \n",
       "0               1        body  \n",
       "1              -1        body  \n",
       "2               1        body  \n",
       "3               1        body  \n",
       "4               1        body  \n",
       "5               1        body  \n",
       "6               1        body  \n",
       "7               1        body  \n",
       "8               1        body  \n",
       "9               1        body  "
      ]
     },
     "execution_count": 2,
     "metadata": {},
     "output_type": "execute_result"
    }
   ],
   "source": [
    "qu = 'SELECT * FROM reddit_hyperlinks LIMIT 10;'\n",
    "pd.read_sql(qu, engine)"
   ]
  },
  {
   "cell_type": "markdown",
   "id": "972ce328-5a9c-4fa9-9d62-752d91c5436d",
   "metadata": {},
   "source": [
    "Which linkage pops up the most often in our dataset? Let's find out. \n",
    "\n",
    "We're going to start by grouping our data by the combination of `SOURCE_SUBREDDIT` and `TARGET_SUBREDDIT`. \n",
    "\n",
    "Then we'll count how many rows each grouping contains and note that, along with the names of the source & target subreddits. \n",
    "\n",
    "Finally, we'll sort by the number of total linkages that occurred."
   ]
  },
  {
   "cell_type": "code",
   "execution_count": 4,
   "id": "ebc12855-b06e-434f-8757-880d6722573c",
   "metadata": {},
   "outputs": [
    {
     "data": {
      "text/html": [
       "<div>\n",
       "<style scoped>\n",
       "    .dataframe tbody tr th:only-of-type {\n",
       "        vertical-align: middle;\n",
       "    }\n",
       "\n",
       "    .dataframe tbody tr th {\n",
       "        vertical-align: top;\n",
       "    }\n",
       "\n",
       "    .dataframe thead th {\n",
       "        text-align: right;\n",
       "    }\n",
       "</style>\n",
       "<table border=\"1\" class=\"dataframe\">\n",
       "  <thead>\n",
       "    <tr style=\"text-align: right;\">\n",
       "      <th></th>\n",
       "      <th>count_links</th>\n",
       "    </tr>\n",
       "  </thead>\n",
       "  <tbody>\n",
       "    <tr>\n",
       "      <th>339642</th>\n",
       "      <td>548</td>\n",
       "    </tr>\n",
       "    <tr>\n",
       "      <th>339641</th>\n",
       "      <td>478</td>\n",
       "    </tr>\n",
       "    <tr>\n",
       "      <th>339640</th>\n",
       "      <td>306</td>\n",
       "    </tr>\n",
       "    <tr>\n",
       "      <th>339639</th>\n",
       "      <td>305</td>\n",
       "    </tr>\n",
       "    <tr>\n",
       "      <th>339638</th>\n",
       "      <td>301</td>\n",
       "    </tr>\n",
       "    <tr>\n",
       "      <th>...</th>\n",
       "      <td>...</td>\n",
       "    </tr>\n",
       "    <tr>\n",
       "      <th>113214</th>\n",
       "      <td>1</td>\n",
       "    </tr>\n",
       "    <tr>\n",
       "      <th>113213</th>\n",
       "      <td>1</td>\n",
       "    </tr>\n",
       "    <tr>\n",
       "      <th>113212</th>\n",
       "      <td>1</td>\n",
       "    </tr>\n",
       "    <tr>\n",
       "      <th>113211</th>\n",
       "      <td>1</td>\n",
       "    </tr>\n",
       "    <tr>\n",
       "      <th>169821</th>\n",
       "      <td>1</td>\n",
       "    </tr>\n",
       "  </tbody>\n",
       "</table>\n",
       "<p>339643 rows × 1 columns</p>\n",
       "</div>"
      ],
      "text/plain": [
       "        count_links\n",
       "339642          548\n",
       "339641          478\n",
       "339640          306\n",
       "339639          305\n",
       "339638          301\n",
       "...             ...\n",
       "113214            1\n",
       "113213            1\n",
       "113212            1\n",
       "113211            1\n",
       "169821            1\n",
       "\n",
       "[339643 rows x 1 columns]"
      ]
     },
     "execution_count": 4,
     "metadata": {},
     "output_type": "execute_result"
    }
   ],
   "source": [
    "qu = \"\"\"\n",
    "SELECT COUNT(*) as count_links \\\n",
    "FROM reddit_hyperlinks \\\n",
    "GROUP BY SOURCE_SUBREDDIT, TARGET_SUBREDDIT ORDER BY count_links;\n",
    "\"\"\"\n",
    "df_link_counts_ = pd.read_sql(qu, engine)\n",
    "df_link_counts_.sort_values('count_links', ascending=False)"
   ]
  },
  {
   "cell_type": "code",
   "execution_count": 3,
   "id": "7aad2316-548e-4a67-8431-c42233adcd3d",
   "metadata": {
    "mystnb": {
     "remove_code_outputs": true
    },
    "slideshow": {
     "slide_type": ""
    },
    "tags": []
   },
   "outputs": [
    {
     "data": {
      "text/html": [
       "<div>\n",
       "<style scoped>\n",
       "    .dataframe tbody tr th:only-of-type {\n",
       "        vertical-align: middle;\n",
       "    }\n",
       "\n",
       "    .dataframe tbody tr th {\n",
       "        vertical-align: top;\n",
       "    }\n",
       "\n",
       "    .dataframe thead th {\n",
       "        text-align: right;\n",
       "    }\n",
       "</style>\n",
       "<table border=\"1\" class=\"dataframe\">\n",
       "  <thead>\n",
       "    <tr style=\"text-align: right;\">\n",
       "      <th></th>\n",
       "      <th>count_links</th>\n",
       "      <th>SOURCE_SUBREDDIT</th>\n",
       "      <th>TARGET_SUBREDDIT</th>\n",
       "    </tr>\n",
       "  </thead>\n",
       "  <tbody>\n",
       "    <tr>\n",
       "      <th>339642</th>\n",
       "      <td>548</td>\n",
       "      <td>trendingsubreddits</td>\n",
       "      <td>changelog</td>\n",
       "    </tr>\n",
       "    <tr>\n",
       "      <th>339641</th>\n",
       "      <td>478</td>\n",
       "      <td>moronicmondayandroid</td>\n",
       "      <td>android</td>\n",
       "    </tr>\n",
       "    <tr>\n",
       "      <th>339640</th>\n",
       "      <td>306</td>\n",
       "      <td>subredditdrama</td>\n",
       "      <td>news</td>\n",
       "    </tr>\n",
       "    <tr>\n",
       "      <th>339639</th>\n",
       "      <td>305</td>\n",
       "      <td>atletico</td>\n",
       "      <td>soccer</td>\n",
       "    </tr>\n",
       "    <tr>\n",
       "      <th>339638</th>\n",
       "      <td>301</td>\n",
       "      <td>writingprompts</td>\n",
       "      <td>askreddit</td>\n",
       "    </tr>\n",
       "    <tr>\n",
       "      <th>...</th>\n",
       "      <td>...</td>\n",
       "      <td>...</td>\n",
       "      <td>...</td>\n",
       "    </tr>\n",
       "    <tr>\n",
       "      <th>113214</th>\n",
       "      <td>1</td>\n",
       "      <td>canadianbusiness</td>\n",
       "      <td>canada</td>\n",
       "    </tr>\n",
       "    <tr>\n",
       "      <th>113213</th>\n",
       "      <td>1</td>\n",
       "      <td>smashsisters</td>\n",
       "      <td>sketchdaily</td>\n",
       "    </tr>\n",
       "    <tr>\n",
       "      <th>113212</th>\n",
       "      <td>1</td>\n",
       "      <td>delusionalartists</td>\n",
       "      <td>leagueoflegends</td>\n",
       "    </tr>\n",
       "    <tr>\n",
       "      <th>113211</th>\n",
       "      <td>1</td>\n",
       "      <td>telus</td>\n",
       "      <td>canada</td>\n",
       "    </tr>\n",
       "    <tr>\n",
       "      <th>169821</th>\n",
       "      <td>1</td>\n",
       "      <td>desertsofkharak</td>\n",
       "      <td>iama</td>\n",
       "    </tr>\n",
       "  </tbody>\n",
       "</table>\n",
       "<p>339643 rows × 3 columns</p>\n",
       "</div>"
      ],
      "text/plain": [
       "        count_links      SOURCE_SUBREDDIT TARGET_SUBREDDIT\n",
       "339642          548    trendingsubreddits        changelog\n",
       "339641          478  moronicmondayandroid          android\n",
       "339640          306        subredditdrama             news\n",
       "339639          305              atletico           soccer\n",
       "339638          301        writingprompts        askreddit\n",
       "...             ...                   ...              ...\n",
       "113214            1      canadianbusiness           canada\n",
       "113213            1          smashsisters      sketchdaily\n",
       "113212            1     delusionalartists  leagueoflegends\n",
       "113211            1                 telus           canada\n",
       "169821            1       desertsofkharak             iama\n",
       "\n",
       "[339643 rows x 3 columns]"
      ]
     },
     "execution_count": 3,
     "metadata": {},
     "output_type": "execute_result"
    }
   ],
   "source": [
    "qu = \"\"\"\n",
    "SELECT COUNT(*) as count_links, SOURCE_SUBREDDIT, TARGET_SUBREDDIT \\\n",
    "FROM reddit_hyperlinks \\\n",
    "GROUP BY SOURCE_SUBREDDIT, TARGET_SUBREDDIT ORDER BY count_links;\n",
    "\"\"\"\n",
    "df_link_counts = pd.read_sql(qu, engine)\n",
    "df_link_counts.sort_values('count_links', ascending=False)"
   ]
  },
  {
   "cell_type": "markdown",
   "id": "21517821-8e14-45d4-a39e-f51829da3e1a",
   "metadata": {},
   "source": [
    "### Degree Distribution\n",
    "You might also be curious about the in- and out- degree distribution of this network. Can you compute the in- and out- degree distributions using the SQL table? In this case, we want to know how many distinct subreddits each other subreddit linked to, not how many **times** a subreddit was linked to."
   ]
  },
  {
   "cell_type": "code",
   "execution_count": 11,
   "id": "c59b252f-4417-4ba2-96fd-0da68a1fa347",
   "metadata": {
    "mystnb": {
     "remove_code_outputs": true
    },
    "slideshow": {
     "slide_type": ""
    },
    "tags": []
   },
   "outputs": [
    {
     "name": "stdout",
     "output_type": "stream",
     "text": [
      "       in_degree   TARGET_SUBREDDIT\n",
      "0              1  01001111010100000\n",
      "1              1               0131\n",
      "2              1            07scape\n",
      "3              1            093game\n",
      "4              1               0b0t\n",
      "...          ...                ...\n",
      "34567       2644             videos\n",
      "34568       3031              funny\n",
      "34569       3335               pics\n",
      "34570       4508               iama\n",
      "34571       5448          askreddit\n",
      "\n",
      "[34572 rows x 2 columns]\n",
      "       out_degree      TARGET_SUBREDDIT\n",
      "0               1          daniel_craig\n",
      "1               1       osrstranscripts\n",
      "2               1          visualnovels\n",
      "3               1             askreddit\n",
      "4               1                creepy\n",
      "...           ...                   ...\n",
      "55858         939  firstworldanarchists\n",
      "55859        1413           gunsarecool\n",
      "55860        2469          crappydesign\n",
      "55861        3020          reactiongifs\n",
      "55862        3111            confession\n",
      "\n",
      "[55863 rows x 2 columns]\n"
     ]
    },
    {
     "data": {
      "text/plain": [
       "Text(0.5, 1.0, 'out-degree distribution')"
      ]
     },
     "execution_count": 11,
     "metadata": {},
     "output_type": "execute_result"
    },
    {
     "data": {
      "image/png": "[encoded data removed]",
      "text/plain": [
       "<Figure size 1500x600 with 2 Axes>"
      ]
     },
     "metadata": {},
     "output_type": "display_data"
    }
   ],
   "source": [
    "# Your Turn!\n",
    "import matplotlib.pyplot as plt\n",
    "import numpy as np\n",
    "\n",
    "qu = \"\"\"\n",
    "SELECT COUNT(DISTINCT SOURCE_SUBREDDIT) in_degree, TARGET_SUBREDDIT \\\n",
    "FROM reddit_hyperlinks \\\n",
    "GROUP BY TARGET_SUBREDDIT ORDER BY in_degree;\n",
    "\"\"\"\n",
    "df_in_degree = pd.read_sql(qu, engine)\n",
    "print(df_in_degree)\n",
    "\n",
    "qu = \"\"\"\n",
    "SELECT COUNT(DISTINCT TARGET_SUBREDDIT) out_degree, TARGET_SUBREDDIT \\\n",
    "FROM reddit_hyperlinks \\\n",
    "GROUP BY SOURCE_SUBREDDIT ORDER BY out_degree;\n",
    "\"\"\"\n",
    "df_out_degree = pd.read_sql(qu, engine)\n",
    "print(df_out_degree)\n",
    "\n",
    "def degree_distribution(k, number_of_bins=15, log_binning=True, density=True):\n",
    "    \"\"\"\n",
    "    Given a degree sequence, return the y values (probability) and the\n",
    "    x values (support) of a degree distribution that you're going to plot.\n",
    "    \n",
    "    Parameters\n",
    "    ----------\n",
    "    k: a list of nodes' degrees\n",
    "\n",
    "    number_of_bins (int):\n",
    "        length of output vectors\n",
    "    \n",
    "    log_binning (bool):\n",
    "        if you are plotting on a log-log axis, then this is useful\n",
    "    \n",
    "    density (bool):\n",
    "        whether to return counts or probability density (default: True)\n",
    "        Note: probability densities integrate to 1 but do not sum to 1. \n",
    "        \n",
    "    Returns\n",
    "    -------\n",
    "    hist, bins (np.ndarray):\n",
    "        probability density if density=True node counts if density=False; binned edges\n",
    "    \n",
    "    \"\"\"\n",
    "    \n",
    "    kmax = np.max(k)                    # get the maximum degree\n",
    "    \n",
    "    \n",
    "    # Step 2: Then we'll need to construct bins\n",
    "    if log_binning:\n",
    "        # array of bin edges including rightmost and leftmost\n",
    "        bins = np.logspace(0,np.log10(kmax+1),number_of_bins+1)\n",
    "        bin_edges = []\n",
    "        for ix in range(len(bins) - 1):\n",
    "            bin_edges.append(np.exp((np.log(bins[ix])+np.log(bins[ix + 1]))/2))\n",
    "    else:\n",
    "        bins = np.linspace(0,kmax+1,num=number_of_bins+1)\n",
    "        bin_edges = []\n",
    "        for ix in range(len(bins) - 1):\n",
    "            bin_edges.append((bins[ix] + bins[ix + 1]) / 2)\n",
    "    # Step 3: Then we can compute the histogram using numpy\n",
    "    hist, _ = np.histogram(k,bins,density=density)\n",
    "\n",
    "    return bin_edges, hist\n",
    "    \n",
    "fig, ax = plt.subplots(1,2,figsize=(10,4),dpi=150)\n",
    "\n",
    "in_degree_bin_edges, in_degree_freqs = degree_distribution(df_in_degree['in_degree'])\n",
    "out_degree_bin_edges, out_degree_freqs = degree_distribution(df_out_degree['out_degree'])\n",
    "ax[0].loglog(in_degree_bin_edges, in_degree_freqs, 'o')\n",
    "ax[0].set_title('in-degree distribution')\n",
    "ax[1].loglog(out_degree_bin_edges, out_degree_freqs, 'o')\n",
    "ax[1].set_title('out-degree distribution')"
   ]
  },
  {
   "cell_type": "markdown",
   "id": "88282ac8-54d5-4ef1-ab98-7a2e675c7412",
   "metadata": {},
   "source": [
    "### Temporal Dynamics of In-Links\n",
    "Now let's look at how in-links to a specific subreddit show up over time. Do they tend to accumulate steadily over time, or do they arrive in bursts? Let's look at the in-links to /r/askreddit. We'll use the handy `pd.to_datetime` function to convert our string timestamps to datetime objects."
   ]
  },
  {
   "cell_type": "code",
   "execution_count": 14,
   "id": "e190a462-6f12-49c1-9f2c-08c0725d1802",
   "metadata": {
    "mystnb": {
     "remove_code_outputs": true
    },
    "slideshow": {
     "slide_type": ""
    },
    "tags": []
   },
   "outputs": [],
   "source": [
    "\n",
    "qu_inlinks = \"\"\"\n",
    "SELECT TIMESTAMP, SOURCE_SUBREDDIT \\\n",
    "FROM reddit_hyperlinks \\\n",
    "WHERE TARGET_SUBREDDIT='askreddit';\n",
    "\"\"\"\n",
    "df_inlinks = pd.read_sql(qu_inlinks, engine)\n",
    "\n",
    "df_inlinks['ts_parsed_rounded'] = df_inlinks['TIMESTAMP'].apply(pd.to_datetime).dt.floor('1d')\n"
   ]
  },
  {
   "cell_type": "markdown",
   "id": "211368dc-1cc4-44a2-97be-7806a382461d",
   "metadata": {},
   "source": [
    "We've just taken the 30-day floor (roughly a month) of the timestamps we computed; this is so we aggregate our in-link counts to every 30 days"
   ]
  },
  {
   "cell_type": "code",
   "execution_count": 15,
   "id": "1d371016-768a-44a0-b2e1-cd680762f00b",
   "metadata": {
    "mystnb": {
     "remove_code_outputs": true
    },
    "slideshow": {
     "slide_type": ""
    },
    "tags": []
   },
   "outputs": [
    {
     "data": {
      "text/plain": [
       "Text(0.5, 1.0, '/r/askreddit in-link frequency over time')"
      ]
     },
     "execution_count": 15,
     "metadata": {},
     "output_type": "execute_result"
    },
    {
     "data": {
      "image/png": "[encoded data removed]",
      "text/plain": [
       "<Figure size 640x480 with 1 Axes>"
      ]
     },
     "metadata": {},
     "output_type": "display_data"
    }
   ],
   "source": [
    "count_per_30d = df_inlinks.groupby('ts_parsed_rounded').agg({'TIMESTAMP': 'count'})\n",
    "plt.plot(count_per_30d.index, count_per_30d['TIMESTAMP'])\n",
    "plt.xticks(rotation=90)\n",
    "plt.xlabel('time')\n",
    "plt.ylabel('in-link frequency')\n",
    "plt.title('/r/askreddit in-link frequency over time')"
   ]
  },
  {
   "cell_type": "markdown",
   "id": "ac487522-6e1c-45c9-a1f1-1853cd76af83",
   "metadata": {},
   "source": [
    "Next, we'll look at /r/subredditdrama's out-links. Can you make the same plot but for /r/subredditdrama's out-links? "
   ]
  },
  {
   "cell_type": "code",
   "execution_count": 19,
   "id": "876bf310-3d9c-4b3c-b9a4-46ad05604191",
   "metadata": {},
   "outputs": [
    {
     "name": "stdout",
     "output_type": "stream",
     "text": [
      "                 TIMESTAMP TARGET_SUBREDDIT ts_parsed_rounded\n",
      "0      2014-01-02 00:56:21     reactiongifs        2013-12-11\n",
      "1      2014-01-02 14:51:21    orvilleawards        2013-12-11\n",
      "2      2014-01-03 02:19:47             news        2013-12-11\n",
      "3      2014-01-02 14:51:21    orvilleawards        2013-12-11\n",
      "4      2014-01-03 02:19:47             news        2013-12-11\n",
      "...                    ...              ...               ...\n",
      "27818  2017-04-30 10:10:03     pettyrevenge        2017-04-24\n",
      "27819  2017-04-30 12:18:37       neoliberal        2017-04-24\n",
      "27820  2017-04-30 13:11:25      hiphopheads        2017-04-24\n",
      "27821  2017-04-30 16:01:51           movies        2017-04-24\n",
      "27822  2017-04-30 16:24:01         alpinism        2017-04-24\n",
      "\n",
      "[27823 rows x 3 columns]\n"
     ]
    }
   ],
   "source": [
    "print(df_outlinks)"
   ]
  },
  {
   "cell_type": "code",
   "execution_count": 18,
   "id": "736beafb-3cb2-48bc-948a-ac1d8d18d3c7",
   "metadata": {
    "mystnb": {
     "remove_code_outputs": true
    },
    "slideshow": {
     "slide_type": ""
    },
    "tags": []
   },
   "outputs": [
    {
     "data": {
      "text/plain": [
       "Text(0.5, 1.0, '/r/subredditdrama out-link frequency over time')"
      ]
     },
     "execution_count": 18,
     "metadata": {},
     "output_type": "execute_result"
    },
    {
     "data": {
      "image/png": "[encoded data removed]",
      "text/plain": [
       "<Figure size 640x480 with 1 Axes>"
      ]
     },
     "metadata": {},
     "output_type": "display_data"
    }
   ],
   "source": [
    "# Your Turn!\n",
    "qu_inlinks = \"\"\"\n",
    "SELECT TIMESTAMP, TARGET_SUBREDDIT \\\n",
    "FROM reddit_hyperlinks \\\n",
    "WHERE SOURCE_SUBREDDIT='subredditdrama';\n",
    "\"\"\"\n",
    "df_outlinks = pd.read_sql(qu_inlinks, engine)\n",
    "\n",
    "df_outlinks['ts_parsed_rounded'] = df_outlinks['TIMESTAMP'].apply(pd.to_datetime).dt.floor('30d')\n",
    "\n",
    "count_per_30d = df_outlinks.groupby('ts_parsed_rounded').agg({'TIMESTAMP': 'count'})\n",
    "plt.plot(count_per_30d.index, count_per_30d['TIMESTAMP'])\n",
    "plt.xticks(rotation=90)\n",
    "plt.xlabel('time')\n",
    "plt.ylabel('out-link frequency')\n",
    "plt.title('/r/subredditdrama out-link frequency over time')"
   ]
  },
  {
   "cell_type": "markdown",
   "id": "db1ebee3-0803-4f4c-96ca-2bb422a75df4",
   "metadata": {},
   "source": [
    "Recall that links can have sentiment attached to them, either positive (1) or negative (-1). Let's look at the number of positive and negative out-links (so plot each one in a different color in the same plot) for /r/subredditdrama over the entire time period. "
   ]
  },
  {
   "cell_type": "code",
   "execution_count": 25,
   "id": "3d89b634-505b-4577-99c5-2b78a60ee23d",
   "metadata": {},
   "outputs": [
    {
     "name": "stdout",
     "output_type": "stream",
     "text": [
      "                 TIMESTAMP  LINK_SENTIMENT ts_parsed_rounded\n",
      "0      2014-01-02 00:56:21               1        2014-01-02\n",
      "1      2014-01-02 14:51:21               1        2014-01-02\n",
      "2      2014-01-03 02:19:47               1        2014-01-03\n",
      "3      2014-01-02 14:51:21               1        2014-01-02\n",
      "4      2014-01-03 02:19:47               1        2014-01-03\n",
      "...                    ...             ...               ...\n",
      "27818  2017-04-30 10:10:03               1        2017-04-30\n",
      "27819  2017-04-30 12:18:37              -1        2017-04-30\n",
      "27820  2017-04-30 13:11:25              -1        2017-04-30\n",
      "27821  2017-04-30 16:01:51               1        2017-04-30\n",
      "27822  2017-04-30 16:24:01               1        2017-04-30\n",
      "\n",
      "[27823 rows x 3 columns]\n"
     ]
    }
   ],
   "source": [
    "qu_outlinks_sentiment = \"\"\"\n",
    "SELECT TIMESTAMP, LINK_SENTIMENT \\\n",
    "FROM reddit_hyperlinks \\\n",
    "WHERE SOURCE_SUBREDDIT='subredditdrama';\n",
    "\"\"\"\n",
    "df_outlinks = pd.read_sql(qu_outlinks_sentiment, engine)\n",
    "print(df_outlinks_sentiment)"
   ]
  },
  {
   "cell_type": "code",
   "execution_count": 26,
   "id": "b556d591-2c4b-4db6-af5f-4f96247d4ff0",
   "metadata": {
    "mystnb": {
     "remove_code_outputs": true
    },
    "slideshow": {
     "slide_type": ""
    },
    "tags": []
   },
   "outputs": [
    {
     "data": {
      "text/plain": [
       "<matplotlib.legend.Legend at 0x2b82d0bad6d0>"
      ]
     },
     "execution_count": 26,
     "metadata": {},
     "output_type": "execute_result"
    },
    {
     "data": {
      "image/png": "[encoded data removed]",
      "text/plain": [
       "<Figure size 640x480 with 1 Axes>"
      ]
     },
     "metadata": {},
     "output_type": "display_data"
    }
   ],
   "source": [
    "df_outlinks['ts_parsed_rounded'] = df_outlinks['TIMESTAMP'].apply(pd.to_datetime).dt.floor('1d')\n",
    "\n",
    "sentiment_mapping = {-1: 'negative', 1: 'positive'}\n",
    "sentiment_color = {-1: 'grey', 1: 'yellow'}\n",
    "for sentiment, gr in df_outlinks.groupby('LINK_SENTIMENT'):\n",
    "    timeseries_gr = gr.groupby('ts_parsed_rounded').agg({'TIMESTAMP': 'count'})\n",
    "    plt.plot(\n",
    "        timeseries_gr.index, \n",
    "        timeseries_gr['TIMESTAMP'], \n",
    "        color=sentiment_color[sentiment],\n",
    "        label=sentiment_mapping[sentiment],\n",
    "    )\n",
    "    \n",
    "plt.xticks(rotation=90)\n",
    "plt.xlabel('time')\n",
    "plt.ylabel('out-link frequency')\n",
    "plt.title('/r/subredditdrama out-link frequency over time by sentiment')\n",
    "plt.legend()"
   ]
  },
  {
   "cell_type": "markdown",
   "id": "0072b5f5-30b8-47b8-a545-a2db68ce3e75",
   "metadata": {
    "slideshow": {
     "slide_type": ""
    },
    "tags": []
   },
   "source": [
    "Now let's turn to temporal changes in the network. Can you plot the network's in- and out-degree distributions for 2014, 2015, and 2016? Hint: the [`EXTRACT`](https://www.w3schools.com/Sql/func_mysql_extract.asp) function in SQL may come in handy here. "
   ]
  },
  {
   "cell_type": "code",
   "execution_count": null,
   "id": "40f47d92-1bbb-46b0-b19e-992011a1d1a8",
   "metadata": {
    "mystnb": {
     "remove_code_outputs": true
    },
    "slideshow": {
     "slide_type": ""
    },
    "tags": []
   },
   "outputs": [],
   "source": [
    "\n",
    "fig, ax = plt.subplots(2,3,figsize=(10,4),dpi=150)\n",
    "\n",
    "# Your Turn!\n",
    "for ix, year in enumerate([2014, 2015, 2016]):\n",
    "    in_degree_bin_edges, in_degree_freqs = degree_distribution(in_degree_list)\n",
    "    out_degree_bin_edges, out_degree_freqs = degree_distribution(out_degree_list)\n",
    "    ax[0, ix].loglog(in_degree_bin_edges, in_degree_freqs, 'o')\n",
    "    ax[0, ix].set_title('in-degree {}'.format(str(year)))\n",
    "    ax[1, ix].loglog(out_degree_bin_edges, out_degree_freqs, 'o')\n",
    "    ax[1, ix].set_title('out-degree {}'.format(str(year)))\n",
    "plt.tight_layout()"
   ]
  },
  {
   "cell_type": "markdown",
   "id": "2cbbd069-4924-438a-ac63-af152602e2df",
   "metadata": {},
   "source": [
    "### Local Clustering\n",
    "Pick a subreddit -- any subreddit (I suggest picking one that has a lot of links to keep things interesting). Can you figure out what its local clustering coefficient is in 2014, 2015, and 2016? Let's assume the graph is unweighted for now, so one hyperlink from subreddit A to subreddit B in 2014 is the same as 10 separate hyperlinks from A to B in the same year. We will also assume the graph is undirected for this exercise. "
   ]
  },
  {
   "cell_type": "code",
   "execution_count": 32,
   "id": "f861cfca-b9ca-4901-a947-1959560f1ff2",
   "metadata": {},
   "outputs": [],
   "source": [
    "import itertools"
   ]
  },
  {
   "cell_type": "code",
   "execution_count": 38,
   "id": "a18e0807-3836-4583-a60a-bc5d59fc2fd1",
   "metadata": {
    "mystnb": {
     "remove_code_outputs": true
    },
    "slideshow": {
     "slide_type": ""
    },
    "tags": []
   },
   "outputs": [],
   "source": [
    "# Your Turn\n",
    "def compute_clustering(subreddit_name, engine):\n",
    "    \"\"\"\n",
    "    Given the name of a subreddit and a SQL connection engine,\n",
    "    return the local clustering coefficient of the subreddit,\n",
    "    considering the network as undirected, OR \n",
    "    raise appropriate errors.\n",
    "\n",
    "    subreddit_name: string; valid name of a subreddit\n",
    "    engine: sqlalchemy engine object\n",
    "\n",
    "    returns: the local clustering coefficient of the subreddit\n",
    "    \"\"\"\n",
    "    coeff_dict = {}\n",
    "    for year in [2014, 2015, 2016]:\n",
    "        qu = \"\"\"\n",
    "        SELECT DISTINCT(CONCAT(TARGET_SUBREDDIT, SOURCE_SUBREDDIT)),\n",
    "        TARGET_SUBREDDIT, SOURCE_SUBREDDIT\n",
    "        FROM reddit_hyperlinks WHERE\n",
    "        (TARGET_SUBREDDIT = '{}' OR SOURCE_SUBREDDIT = '{}')\n",
    "        AND EXTRACT(YEAR FROM TIMESTAMP) = {};\n",
    "        \"\"\".format(subreddit_name, subreddit_name, str(year))\n",
    "\n",
    "        df_year = pd.read_sql(qu, engine)\n",
    "        neighbours_set = set(df_year['TARGET_SUBREDDIT'].tolist() + df_year['SOURCE_SUBREDDIT'].tolist())\n",
    "        neighbours_set.remove(subreddit_name)\n",
    "\n",
    "        possible_links = 0\n",
    "        achieved_links = 0\n",
    "        for combo in itertools.combinations(list(neighbours_set), 2):\n",
    "            qu = \"\"\"\n",
    "            SELECT *\n",
    "            FROM reddit_hyperlinks\n",
    "            WHERE (TARGET_SUBREDDIT = '{}' AND SOURCE_SUBREDDIT = '{}') OR\n",
    "            (SOURCE_SUBREDDIT = '{}' AND TARGET_SUBREDDIT = '{}') AND\n",
    "            EXTRACT(YEAR FROM TIMESTAMP) = {};\n",
    "            \"\"\".format(combo[0], combo[1], combo[0], combo[1], str(year))\n",
    "            df_link = pd.read_sql(qu, engine)\n",
    "            if len(df_link) > 0:\n",
    "                achieved_links += 1\n",
    "            possible_links += 1\n",
    "\n",
    "        if possible_links == 0:\n",
    "            coeff = 0\n",
    "        else:\n",
    "            coeff = achieved_links / possible_links\n",
    "        coeff_dict[year] = coeff\n",
    "        return(coeff_dict)\n",
    "\n",
    "out = compute_clustering('amitheasshole', engine)"
   ]
  },
  {
   "cell_type": "code",
   "execution_count": 39,
   "id": "f79e3539-26b0-459a-a374-5a31ddc32a51",
   "metadata": {},
   "outputs": [
    {
     "data": {
      "text/plain": [
       "{2014: 0.4583333333333333}"
      ]
     },
     "execution_count": 39,
     "metadata": {},
     "output_type": "execute_result"
    }
   ],
   "source": [
    "out"
   ]
  }
 ],
 "metadata": {
  "kernelspec": {
   "display_name": "Python 3 (ipykernel)",
   "language": "python",
   "name": "python3"
  },
  "language_info": {
   "codemirror_mode": {
    "name": "ipython",
    "version": 3
   },
   "file_extension": ".py",
   "mimetype": "text/x-python",
   "name": "python",
   "nbconvert_exporter": "python",
   "pygments_lexer": "ipython3",
   "version": "3.12.4"
  }
 },
 "nbformat": 4,
 "nbformat_minor": 5
}
