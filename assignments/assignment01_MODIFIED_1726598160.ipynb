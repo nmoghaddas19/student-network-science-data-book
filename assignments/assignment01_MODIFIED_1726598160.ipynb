{
 "cells": [
  {
   "cell_type": "markdown",
   "id": "4a974306-48a2-4fa1-a015-ac631109a963",
   "metadata": {},
   "source": [
    "# Network Science Data II (PHYS 7332) - Assignment 1"
   ]
  },
  {
   "cell_type": "code",
   "execution_count": 1,
   "id": "8f01e47e-502f-4bb4-8d67-b49fa6f9e062",
   "metadata": {},
   "outputs": [],
   "source": [
    "import networkx as nx\n",
    "import random"
   ]
  },
  {
   "cell_type": "code",
   "execution_count": 64,
   "id": "e6752cf7-d245-436d-91a8-0eb7a819b020",
   "metadata": {},
   "outputs": [],
   "source": [
    "G = nx.balanced_tree(2, 6)\n",
    "x, y = random.sample(list(G.edges()), 2)"
   ]
  },
  {
   "cell_type": "code",
   "execution_count": 55,
   "id": "b30f36a7-fc89-4bb8-aa4c-601b1b4af822",
   "metadata": {},
   "outputs": [
    {
     "name": "stdout",
     "output_type": "stream",
     "text": [
      "True\n",
      "True\n",
      "True\n",
      "False\n",
      "False\n",
      "False\n"
     ]
    }
   ],
   "source": [
    "edge_list = list(G.edges)\n",
    "print(x in edge_list)\n",
    "print(y in edge_list)\n",
    "print(nx.is_connected(G))\n",
    "F = G.copy()\n",
    "F.remove_edges_from([x, y])\n",
    "print(nx.is_connected(F))\n",
    "edge_list = list(F.edges)\n",
    "print(x in edge_list)\n",
    "print(y in edge_list)"
   ]
  },
  {
   "cell_type": "code",
   "execution_count": 49,
   "id": "9590a09d-8d17-4379-a5f0-065f1d5fdeab",
   "metadata": {},
   "outputs": [
    {
     "name": "stdout",
     "output_type": "stream",
     "text": [
      "True\n",
      "True\n",
      "False\n",
      "False\n"
     ]
    }
   ],
   "source": [
    "edge_list = list(G.edges)\n",
    "print(x in edge_list)\n",
    "print(y in edge_list)\n",
    "G.remove_edges_from([x, y])\n",
    "edge_list_new = list(G.edges)\n",
    "print(x in edge_list_new)\n",
    "print(y in edge_list_new)"
   ]
  },
  {
   "cell_type": "code",
   "execution_count": 3,
   "id": "8586b77a-1049-4548-8348-e7b81d2019c7",
   "metadata": {},
   "outputs": [
    {
     "data": {
      "text/plain": [
       "127"
      ]
     },
     "execution_count": 3,
     "metadata": {},
     "output_type": "execute_result"
    }
   ],
   "source": [
    "G.number_of_nodes()"
   ]
  },
  {
   "cell_type": "code",
   "execution_count": 22,
   "id": "9f02fd5b-69d2-4eb1-ac43-4ee832f3a1f0",
   "metadata": {},
   "outputs": [
    {
     "name": "stdout",
     "output_type": "stream",
     "text": [
      "this is (3, 8)\n"
     ]
    }
   ],
   "source": [
    "print(\"this is\", x)"
   ]
  },
  {
   "cell_type": "code",
   "execution_count": 62,
   "id": "306fe55f-456b-476a-aee8-483bec6e0911",
   "metadata": {},
   "outputs": [],
   "source": [
    "# Question 2b (Modify the algorithm to prevent an infinite loop by abandoning the exchange \n",
    "# process after reaching a given number of attempts without a successful exchange.)\n",
    "\n",
    "def edge_exchange(G, t, max_u):\n",
    "    \"\"\"\n",
    "    Given a network, return a network with edges exchanged at random\n",
    "    while preserving the degree of each node and the overall connectivity\n",
    "    \n",
    "    Parameters\n",
    "    ----------\n",
    "    G (nx.Graph):\n",
    "        the network to perform edge exchange on\n",
    "\n",
    "    t (int):\n",
    "        the total number of edge exchange attempts to be performed\n",
    "\n",
    "    max_u (int):\n",
    "        the maximum number of unsuccessful edge swaps to tolerate before terminating \n",
    "        \n",
    "    Returns\n",
    "    -------\n",
    "    G (nx.Graph):\n",
    "        the edge exchanged network\n",
    "\n",
    "    s (int):\n",
    "        the number of edge exchange attempts that were successful \n",
    "\n",
    "    u (int):\n",
    "        the number of edge exchange attempts that were unsuccessful \n",
    "\n",
    "    d (int):\n",
    "        the number of edge exchange attempts that would have disconnected the graph\n",
    "    \"\"\"\n",
    "    s = 0 # set successful counter to 0\n",
    "    u = 0 # set unsuccessful counter to 0\n",
    "    d = 0 # set disconnecting counter to 0\n",
    "    while s < t:\n",
    "        if u >= max_u: # check if max number of unsuccessful iterations reached\n",
    "            print(\"Maximum number of unsuccessful iterations reached\")\n",
    "            print(\"Terminating algorithm after\", s, \"successful and\", u, \"unsuccessful edge swaps\")\n",
    "            break\n",
    "            \n",
    "        edge_list = list(G.edges) # unpack nx.Graph into an edge list\n",
    "        edge_1, edge_2 = random.sample(edge_list, 2) # choose two random edges from the edge list\n",
    "        \n",
    "        if edge_1[0] in edge_2 or edge_1[1] in edge_2: # check if any of the nodes are the same\n",
    "            u = u + 1 # increment counter for unsucessful edge swap\n",
    "            continue\n",
    "            \n",
    "        if (edge_1[0], edge_2[1]) in edge_list or (edge_1[1], edge_2[0]) in edge_list or (edge_2[1], edge_1[0]) in edge_list or (edge_2[0], edge_1[1]) in edge_list: # check if the proposed edges already exist\n",
    "            u = u + 1 # increment counter for unsucessful edge swap\n",
    "            continue\n",
    "\n",
    "        # check if network would remain connected after edge swap\n",
    "        F = G.copy()\n",
    "        F.remove_edges_from([edge_1, edge_2])\n",
    "        F.add_edges_from([(edge_1[0], edge_2[1]), (edge_1[1], edge_2[0])])\n",
    "        if nx.is_connected(F) == False:\n",
    "            d = d + 1 # increment counter for disconnecting swaps\n",
    "            continue\n",
    "        \n",
    "        # if everything is okay, perform the edge swap\n",
    "        G.remove_edge(edge_1[0], edge_1[1]) # remove edge 1 (i,j)\n",
    "        G.remove_edge(edge_2[0], edge_2[1]) # remove edge 2 (u,v)\n",
    "        G.add_edge(edge_1[0], edge_2[1]) # add edge (i,v)\n",
    "        G.add_edge(edge_1[1], edge_2[0]) # add edge (j,u)\n",
    "        \n",
    "        s = s + 1 # increment counter for successful edge swap\n",
    "        \n",
    "    return(G, s, u, d)\n",
    "    "
   ]
  },
  {
   "cell_type": "code",
   "execution_count": 65,
   "id": "29d9aa86-5c39-4edb-8b14-171c84885d11",
   "metadata": {},
   "outputs": [
    {
     "name": "stdout",
     "output_type": "stream",
     "text": [
      "[(0, 1), (0, 2), (1, 3), (1, 4), (2, 5), (2, 6), (3, 7), (3, 8), (4, 9), (4, 10), (5, 11), (5, 12), (6, 13), (6, 14), (7, 15), (7, 16), (8, 17), (8, 18), (9, 19), (9, 20), (10, 21), (10, 22), (11, 23), (11, 24), (12, 25), (12, 26), (13, 27), (13, 28), (14, 29), (14, 30), (15, 31), (15, 32), (16, 33), (16, 34), (17, 35), (17, 36), (18, 37), (18, 38), (19, 39), (19, 40), (20, 41), (20, 42), (21, 43), (21, 44), (22, 45), (22, 46), (23, 47), (23, 48), (24, 49), (24, 50), (25, 51), (25, 52), (26, 53), (26, 54), (27, 55), (27, 56), (28, 57), (28, 58), (29, 59), (29, 60), (30, 61), (30, 62), (31, 63), (31, 64), (32, 65), (32, 66), (33, 67), (33, 68), (34, 69), (34, 70), (35, 71), (35, 72), (36, 73), (36, 74), (37, 75), (37, 76), (38, 77), (38, 78), (39, 79), (39, 80), (40, 81), (40, 82), (41, 83), (41, 84), (42, 85), (42, 86), (43, 87), (43, 88), (44, 89), (44, 90), (45, 91), (45, 92), (46, 93), (46, 94), (47, 95), (47, 96), (48, 97), (48, 98), (49, 99), (49, 100), (50, 101), (50, 102), (51, 103), (51, 104), (52, 105), (52, 106), (53, 107), (53, 108), (54, 109), (54, 110), (55, 111), (55, 112), (56, 113), (56, 114), (57, 115), (57, 116), (58, 117), (58, 118), (59, 119), (59, 120), (60, 121), (60, 122), (61, 123), (61, 124), (62, 125), (62, 126)]\n",
      "[(0, 2), (0, 125), (1, 82), (1, 70), (1, 62), (2, 5), (2, 6), (3, 40), (3, 45), (3, 81), (4, 30), (4, 105), (4, 48), (5, 11), (5, 35), (6, 13), (6, 8), (7, 123), (7, 13), (7, 47), (8, 112), (8, 85), (9, 31), (9, 28), (9, 120), (10, 21), (10, 101), (10, 113), (11, 23), (11, 94), (12, 55), (12, 115), (12, 69), (13, 46), (14, 48), (14, 87), (14, 21), (15, 57), (15, 60), (15, 62), (16, 43), (16, 111), (16, 35), (17, 42), (17, 98), (17, 92), (18, 38), (18, 34), (18, 62), (19, 104), (19, 36), (19, 66), (20, 40), (20, 86), (20, 58), (21, 58), (22, 56), (22, 79), (22, 33), (23, 31), (23, 83), (24, 49), (24, 50), (24, 41), (25, 80), (25, 126), (25, 45), (26, 54), (26, 71), (26, 55), (27, 56), (27, 121), (27, 37), (28, 99), (28, 118), (29, 76), (29, 32), (29, 60), (30, 61), (30, 37), (31, 108), (32, 64), (32, 41), (33, 97), (33, 63), (34, 74), (34, 40), (35, 124), (36, 73), (36, 59), (37, 122), (38, 77), (38, 65), (39, 72), (39, 50), (39, 75), (41, 84), (42, 109), (42, 53), (43, 88), (43, 51), (44, 90), (44, 53), (44, 110), (45, 114), (46, 100), (46, 59), (47, 95), (47, 68), (48, 107), (49, 67), (49, 119), (50, 78), (51, 103), (51, 61), (52, 106), (52, 57), (52, 102), (53, 61), (54, 116), (54, 96), (55, 60), (56, 91), (57, 93), (58, 117), (59, 89)]\n"
     ]
    }
   ],
   "source": [
    "print(G.edges())\n",
    "G_exchanged, s, u, d = edge_exchange(G, 100, 50)\n",
    "print(G_exchanged.edges())"
   ]
  },
  {
   "cell_type": "code",
   "execution_count": 66,
   "id": "f3cc79a5-fef2-4124-bf05-d9597d36a9aa",
   "metadata": {},
   "outputs": [
    {
     "data": {
      "text/plain": [
       "networkx.classes.graph.Graph"
      ]
     },
     "execution_count": 66,
     "metadata": {},
     "output_type": "execute_result"
    }
   ],
   "source": [
    "type(G)"
   ]
  },
  {
   "cell_type": "code",
   "execution_count": 67,
   "id": "c05835f6-87d3-44f2-9081-db06267443da",
   "metadata": {},
   "outputs": [
    {
     "name": "stdout",
     "output_type": "stream",
     "text": [
      "100 7 36\n"
     ]
    }
   ],
   "source": [
    "print(s, u, d)"
   ]
  },
  {
   "cell_type": "code",
   "execution_count": 60,
   "id": "20c6074b-cd48-4a3f-86b2-46c4d8ba1180",
   "metadata": {},
   "outputs": [
    {
     "name": "stdout",
     "output_type": "stream",
     "text": [
      "Maximum number of unsuccessful iterations reached\n",
      "Terminating algorithm after 0 successful and 10 unsuccessful edge swaps\n"
     ]
    }
   ],
   "source": [
    "G = nx.complete_graph(50)\n",
    "G_exchanged, s, u = edge_exchange(G, 100, 10)"
   ]
  },
  {
   "cell_type": "code",
   "execution_count": 35,
   "id": "71cb9be8-f56d-4a18-a79a-0b6cb675b943",
   "metadata": {},
   "outputs": [
    {
     "data": {
      "text/plain": [
       "True"
      ]
     },
     "execution_count": 35,
     "metadata": {},
     "output_type": "execute_result"
    }
   ],
   "source": [
    "nx.is_connected(G)"
   ]
  }
 ],
 "metadata": {
  "kernelspec": {
   "display_name": "Python 3 (ipykernel)",
   "language": "python",
   "name": "python3"
  },
  "language_info": {
   "codemirror_mode": {
    "name": "ipython",
    "version": 3
   },
   "file_extension": ".py",
   "mimetype": "text/x-python",
   "name": "python",
   "nbconvert_exporter": "python",
   "pygments_lexer": "ipython3",
   "version": "3.12.4"
  }
 },
 "nbformat": 4,
 "nbformat_minor": 5
}
