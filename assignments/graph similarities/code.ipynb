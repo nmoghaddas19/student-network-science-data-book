{
 "cells": [
  {
   "cell_type": "markdown",
   "id": "cc082d74-4596-4e0e-abba-86789f6d208c",
   "metadata": {},
   "source": [
    "# Graph Similiarity Measures\n",
    "\n",
    "Some intro to motivate why this is important"
   ]
  },
  {
   "cell_type": "markdown",
   "id": "bf3ea385-7518-4a82-af49-be0f9020d58d",
   "metadata": {},
   "source": [
    "## 0. Isomorphism in graphs"
   ]
  },
  {
   "cell_type": "markdown",
   "id": "90d634f4-67d0-483c-970d-72749b827313",
   "metadata": {},
   "source": [
    "## 1. Pick your favourite graph metric or distribution "
   ]
  },
  {
   "cell_type": "markdown",
   "id": "85236711-7e96-4186-8c45-35a7eb6f8505",
   "metadata": {},
   "source": [
    "## 2. Spectral metrics?"
   ]
  },
  {
   "cell_type": "markdown",
   "id": "62afaf9b-aaa5-4abc-8ffc-891911d9c97f",
   "metadata": {},
   "source": [
    "## 3. Graph edit distance\n",
    "\n",
    "Graph Edit Distance is defined as the minimum cost sequence of edit operations needed to transform one graph G₁ into another graph G₂. Basic edit operations include:\n",
    "\n",
    "- Vertex insertion\n",
    "- Vertex deletion\n",
    "- Vertex substitution (relabeling)\n",
    "- Edge insertion\n",
    "- Edge deletion\n",
    "- Edge substitution (relabeling)"
   ]
  },
  {
   "cell_type": "markdown",
   "id": "6ce091a0-3680-4917-b35f-0015df5b3ec0",
   "metadata": {},
   "source": [
    "## 4. Maximum common subgraph"
   ]
  }
 ],
 "metadata": {
  "kernelspec": {
   "display_name": "Python 3 (ipykernel)",
   "language": "python",
   "name": "python3"
  },
  "language_info": {
   "codemirror_mode": {
    "name": "ipython",
    "version": 3
   },
   "file_extension": ".py",
   "mimetype": "text/x-python",
   "name": "python",
   "nbconvert_exporter": "python",
   "pygments_lexer": "ipython3",
   "version": "3.12.4"
  }
 },
 "nbformat": 4,
 "nbformat_minor": 5
}
