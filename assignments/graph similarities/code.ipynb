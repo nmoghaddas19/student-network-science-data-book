{
 "cells": [
  {
   "cell_type": "markdown",
   "id": "cc082d74-4596-4e0e-abba-86789f6d208c",
   "metadata": {},
   "source": [
    "# Graph Similarity Measures\n",
    "\n",
    "Goal of today's class:\n",
    "\n",
    "1. Understand the basic concept of graph similarity\n",
    "2. Implement and analyze different similarity measures\n",
    "3. Develop an intuition for what some similarity measures are telling us and when they might be appropriate to use\n",
    "4. "
   ]
  },
  {
   "cell_type": "markdown",
   "id": "0e35db28-04d2-4258-893c-68b3984fdf60",
   "metadata": {},
   "source": [
    "### We want your final projects to showcase your ability to distill the following:\n",
    "1. Your understanding of a topic not covered in class\n",
    "2. Your accuracy in creating *correct* code around your topic, along with a strong reference list\n",
    "3. Your ability to convey your understanding via:\n",
    "    - A) Chunking the information into a single lesson that builds on itself (e.g. breaking down complex functions into parts, putting the pieces together, using different examples to illustrate your methods)\n",
    "    - B) Good examples / visuals / writeups of what results produced during the lesson / datasets used to illustrate your concept\n",
    "    - C) At least one interactive component (i.e., the \"Your Turn!\" in our lessons)\n",
    "\n",
    "Much like in our lessons, it's okay to include more than you imagine covering in a (hypothetical) 90 minute class period. Be sure to indicate what sections of your chapter are \"advanced topics\", and always include relevant citations or motivation."
   ]
  },
  {
   "cell_type": "markdown",
   "id": "88316dd7-4fcf-49f6-bd28-fff4200bad0f",
   "metadata": {},
   "source": [
    "## Heading: Big Picture Topic\n",
    "\n",
    "Provide a broad overview of your topic. Include lots of citations!! This should be a thorough introduction to the topic you're sharing with us. If possible, use figures, equations, or provide links to relevant outside content.\n",
    "\n",
    "See some of the [markdown + equations](https://jupyterbook.org/en/stable/content/math.html) tutorials here. From that link: To insert in-line math use the `$` symbol within a Markdown cell. For example, the text `$this_{is}^{inline}$` will produce: $this_{is}^{inline}$.\n",
    "\n",
    "Adding `$$ equation stuff $$` on a new line makes the equation centered.\n",
    "________"
   ]
  },
  {
   "cell_type": "markdown",
   "id": "bf3ea385-7518-4a82-af49-be0f9020d58d",
   "metadata": {},
   "source": [
    "## 0. Isomorphism in graphs"
   ]
  },
  {
   "cell_type": "markdown",
   "id": "90d634f4-67d0-483c-970d-72749b827313",
   "metadata": {},
   "source": [
    "## 1. Pick your favourite graph feature"
   ]
  },
  {
   "cell_type": "markdown",
   "id": "85236711-7e96-4186-8c45-35a7eb6f8505",
   "metadata": {},
   "source": [
    "## 2. Spectral metrics?"
   ]
  },
  {
   "cell_type": "markdown",
   "id": "62afaf9b-aaa5-4abc-8ffc-891911d9c97f",
   "metadata": {},
   "source": [
    "## 3. Graph edit distance\n",
    "\n",
    "Graph Edit Distance is defined as the minimum cost sequence of edit operations needed to transform one graph G₁ into another graph G₂. Basic edit operations include:\n",
    "\n",
    "- Vertex insertion\n",
    "- Vertex deletion\n",
    "- Vertex substitution (relabeling)\n",
    "- Edge insertion\n",
    "- Edge deletion\n",
    "- Edge substitution (relabeling)"
   ]
  },
  {
   "cell_type": "markdown",
   "id": "6ce091a0-3680-4917-b35f-0015df5b3ec0",
   "metadata": {},
   "source": [
    "## 4. Maximum common subgraph"
   ]
  },
  {
   "cell_type": "markdown",
   "id": "a68ad0e8-41c9-4c09-bb32-647db7767439",
   "metadata": {},
   "source": [
    "_______\n",
    "\n",
    "## References and further resources:\n",
    "\n",
    "1. Ref 1, useful website, etc.\n",
    "2. Hartle, Klein, McCabe, Daniels, St-Onge, Murphy, & Hébert-Dufresne (2020). Network comparison and the within-ensemble graph distance. *Proceedings of the Royal Society A*, 476(2243), 20190744. doi: https://doi.org/10.1098/rspa.2019.0744.\n",
    "3. etc\n",
    "4. etc\n",
    "\n",
    "(Aim for 10+ useful citations)"
   ]
  }
 ],
 "metadata": {
  "kernelspec": {
   "display_name": "Python 3 (ipykernel)",
   "language": "python",
   "name": "python3"
  },
  "language_info": {
   "codemirror_mode": {
    "name": "ipython",
    "version": 3
   },
   "file_extension": ".py",
   "mimetype": "text/x-python",
   "name": "python",
   "nbconvert_exporter": "python",
   "pygments_lexer": "ipython3",
   "version": "3.11.10"
  }
 },
 "nbformat": 4,
 "nbformat_minor": 5
}
