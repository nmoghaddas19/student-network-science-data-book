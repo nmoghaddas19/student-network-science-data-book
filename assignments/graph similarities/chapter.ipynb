{
 "cells": [
  {
   "cell_type": "markdown",
   "id": "cc082d74-4596-4e0e-abba-86789f6d208c",
   "metadata": {},
   "source": [
    "# Graph Similarity Measures\n",
    "\n",
    "Goal of today's class:\n",
    "\n",
    "1. Understand the basic concept of graph similarity\n",
    "2. Implement and analyze different similarity measures\n",
    "3. Develop an intuition for what some similarity measures are telling us and when they might be appropriate to use\n",
    "4. "
   ]
  },
  {
   "cell_type": "markdown",
   "id": "0e35db28-04d2-4258-893c-68b3984fdf60",
   "metadata": {},
   "source": [
    "### We want your final projects to showcase your ability to distill the following:\n",
    "1. Your understanding of a topic not covered in class\n",
    "2. Your accuracy in creating *correct* code around your topic, along with a strong reference list\n",
    "3. Your ability to convey your understanding via:\n",
    "    - A) Chunking the information into a single lesson that builds on itself (e.g. breaking down complex functions into parts, putting the pieces together, using different examples to illustrate your methods)\n",
    "    - B) Good examples / visuals / writeups of what results produced during the lesson / datasets used to illustrate your concept\n",
    "    - C) At least one interactive component (i.e., the \"Your Turn!\" in our lessons)\n",
    "\n",
    "Much like in our lessons, it's okay to include more than you imagine covering in a (hypothetical) 90 minute class period. Be sure to indicate what sections of your chapter are \"advanced topics\", and always include relevant citations or motivation."
   ]
  },
  {
   "cell_type": "markdown",
   "id": "88316dd7-4fcf-49f6-bd28-fff4200bad0f",
   "metadata": {},
   "source": [
    "## What is graph distance?\n",
    "\n",
    "Graphs are complex, high dimensional objects. However sometimes we just want to ask something like: '_How similar are these two graphs?_'. Graph distances refer to a host of methods which attempt to answer this question by devising some function which takes two graphs as inputs and returns a single number representing how similar or different they are. In other words, given $G_1$ and $G_2$, we seek a function $f$ such that \n",
    "\n",
    "$$f(G_1, G_2) = d$$ \n",
    "\n",
    "where d is the distance between the two graphs. Of course, in the process of reducing a graph to a single number, information is going to be lost, no matter how ingenious your graph distance function is. Many, many graph distance measures have been proposed which each claim their own strangths.\n",
    "\n",
    "There are two broad categories of problems when it comes to comparing graphs. Firstly, we may want to compare graphs where the each node in $G_1$ maps on to a node in $G_2$ (**Known Node Correspondence**). For example we may be interested in different types of social interaction that occur between the same set of people, or how the flight patterns between the same set of airports changes over time. Secondly, we may be interested in comparing graphs where there isn't a precise mapping of nodes between the two graphs (**Unknown Node Correspondence**). For example if we wanted to know how similar are the commuting patterns between Boston and San Diego. Or we may be interested in comparing graphs of different sizes. There are different measures for tackling each of these problems. In general, measures for comparing graphs of unknown node correspondence can also be used for graphs with known node correspondence but not vice versa.\n",
    "________"
   ]
  },
  {
   "cell_type": "markdown",
   "id": "fef1ae41-84be-4eed-9632-84697403c5df",
   "metadata": {},
   "source": [
    "Types of distance measures:\n",
    "1. Known node correspondence\n",
    "    1. Adjacency matrix difference\n",
    "    2. DeltaCon\n",
    "    3. Cut distance\n",
    "2. Unknown node correspondence\n",
    "   1. Spectral distances\n",
    "   2. Global statistics\n",
    "   3. Mesoscopic response functions\n",
    "   4. Graphlet based methods\n",
    "   5. Alignment based methods\n",
    "   6. Portrait divergence\n",
    "   7. Graph kernels\n",
    "   8. Persistent homology\n",
    "   9. Bayesian methods"
   ]
  },
  {
   "cell_type": "markdown",
   "id": "88df35c2-0a31-4ed0-a891-304fb442519c",
   "metadata": {},
   "source": [
    "Important concepts\n",
    "1. Known vs unknown node correspondence\n",
    "2. Comparison within vs between graph ensembles\n",
    "3. Local vs meso vs macro structure"
   ]
  },
  {
   "cell_type": "markdown",
   "id": "bf3ea385-7518-4a82-af49-be0f9020d58d",
   "metadata": {},
   "source": [
    "## 1. Frobenius norm\n",
    "- Explain isomorphism\n",
    "- Idea that distances should have the property that isomorphic (or minimally edited graphs) ought to have a smaller distance\n",
    "- Compute $d$ for various instances of ER graph with different densities\n",
    "- Test sensitivity to removing or randomizing edges"
   ]
  },
  {
   "cell_type": "markdown",
   "id": "90d634f4-67d0-483c-970d-72749b827313",
   "metadata": {},
   "source": [
    "## 2. DeltaCon \n",
    "- Set up problem that we expect graphs with "
   ]
  },
  {
   "cell_type": "markdown",
   "id": "85236711-7e96-4186-8c45-35a7eb6f8505",
   "metadata": {},
   "source": [
    "## 3. Spectral distances"
   ]
  },
  {
   "cell_type": "markdown",
   "id": "62afaf9b-aaa5-4abc-8ffc-891911d9c97f",
   "metadata": {},
   "source": [
    "## 4. Portrait divergence\n",
    "\n"
   ]
  },
  {
   "cell_type": "markdown",
   "id": "a68ad0e8-41c9-4c09-bb32-647db7767439",
   "metadata": {},
   "source": [
    "_______\n",
    "\n",
    "## References and further resources:\n",
    "\n",
    "1. Hartle, H., Klein, B., McCabe, S., Daniels, A., St-Onge, G., Murphy, C., Hébert-Dufresne, L., 2020. Network comparison and the within-ensemble graph distance. Proc. R. Soc. A. 476, 20190744. https://doi.org/10.1098/rspa.2019.0744\n",
    "2. Soundarajan, S., Eliassi-Rad, T., Gallagher, B., 2014. A Guide to Selecting a Network Similarity Method, in: Proceedings of the 2014 SIAM International Conference on Data Mining. Presented at the Proceedings of the 2014 SIAM International Conference on Data Mining, Society for Industrial and Applied Mathematics, pp. 1037–1045. https://doi.org/10.1137/1.9781611973440.118\n",
    "3. Tantardini, M., Ieva, F., Tajoli, L., Piccardi, C., 2019. Comparing methods for comparing networks. Sci Rep 9, 17557. https://doi.org/10.1038/s41598-019-53708-y\n",
    "4. Wills, P., Meyer, F.G., 2020. Metrics for graph comparison: A practitioner’s guide. PLoS ONE 15, e0228728. https://doi.org/10.1371/journal.pone.0228728\n",
    "\n",
    "\n",
    "(Aim for 10+ useful citations)"
   ]
  }
 ],
 "metadata": {
  "kernelspec": {
   "display_name": "Python 3 (ipykernel)",
   "language": "python",
   "name": "python3"
  },
  "language_info": {
   "codemirror_mode": {
    "name": "ipython",
    "version": 3
   },
   "file_extension": ".py",
   "mimetype": "text/x-python",
   "name": "python",
   "nbconvert_exporter": "python",
   "pygments_lexer": "ipython3",
   "version": "3.11.10"
  }
 },
 "nbformat": 4,
 "nbformat_minor": 5
}
