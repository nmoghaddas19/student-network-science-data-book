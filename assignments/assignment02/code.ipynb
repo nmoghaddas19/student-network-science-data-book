{
 "cells": [
  {
   "cell_type": "code",
   "execution_count": 24,
   "id": "7f00636a-07ac-47aa-a989-c5ddf4f1ef3c",
   "metadata": {},
   "outputs": [],
   "source": [
    "import networkx as nx\n",
    "import acopy\n",
    "import time"
   ]
  },
  {
   "cell_type": "markdown",
   "id": "d7e04f73-53c3-4835-88f1-a61c88d077c9",
   "metadata": {},
   "source": [
    "## Question 2"
   ]
  },
  {
   "cell_type": "code",
   "execution_count": 3,
   "id": "98858be7-c085-48bb-aca6-ca465aba201d",
   "metadata": {},
   "outputs": [
    {
     "name": "stdout",
     "output_type": "stream",
     "text": [
      "g_berlin has 52 nodes and 2652 edges\n",
      "g_brazil has 58 nodes and 3306 edges\n",
      "g_brg has 180 nodes and 32220 edges\n",
      "g_gr has 229 nodes and 52212 edges\n",
      "g_pr has 439 nodes and 192282 edges\n"
     ]
    }
   ],
   "source": [
    "# Question 2b\n",
    "\n",
    "g_berlin = nx.read_gml('../../data/tsp/../../data/tsp/berlin52.gml')\n",
    "g_brazil = nx.read_gml('../../data/tsp/../../data/tsp/brazil58.gml')\n",
    "g_brg = nx.read_gml('../../data/tsp/../../data/tsp/brg180.gml')\n",
    "g_gr = nx.read_gml('../../data/tsp/../../data/tsp/gr229.gml')\n",
    "g_pr = nx.read_gml('../../data/tsp/../../data/tsp/pr439.gml')\n",
    "\n",
    "print('g_berlin has', g_berlin.number_of_nodes(), 'nodes and', g_berlin.number_of_edges(), 'edges')\n",
    "print('g_brazil has', g_brazil.number_of_nodes(), 'nodes and', g_brazil.number_of_edges(), 'edges')\n",
    "print('g_brg has', g_brg.number_of_nodes(), 'nodes and', g_brg.number_of_edges(), 'edges')\n",
    "print('g_gr has', g_gr.number_of_nodes(), 'nodes and', g_gr.number_of_edges(), 'edges')\n",
    "print('g_pr has', g_pr.number_of_nodes(), 'nodes and', g_pr.number_of_edges(), 'edges')"
   ]
  },
  {
   "cell_type": "code",
   "execution_count": 4,
   "id": "f4bbe775-1ff8-498e-bda1-f87d5f77608a",
   "metadata": {},
   "outputs": [],
   "source": [
    "# alpha affects pheromone importance\n",
    "# beta affects distance/weight importance\n",
    "# rho is pheromone evaporation\n",
    "# Q is amount of pheromone ants release \n",
    "solver = acopy.Solver(rho=.03, q=1)\n",
    "colony = acopy.Colony(alpha=1, beta=5) "
   ]
  },
  {
   "cell_type": "markdown",
   "id": "7401565b-aec3-4aa7-bc80-065e93bcc249",
   "metadata": {},
   "source": [
    "It seems like the package needs distances to be coded as 'weight' so I need to rename the 'cost' attribute to 'weight'"
   ]
  },
  {
   "cell_type": "code",
   "execution_count": 23,
   "id": "a2eef158-3e59-4116-861b-e8a87e1825b8",
   "metadata": {},
   "outputs": [
    {
     "name": "stdout",
     "output_type": "stream",
     "text": [
      "[('0', '1', {'pheromone': 0.00022344521551333316, 'weight': 666.1080993352356}), ('0', '2', {'pheromone': 0.0021771484545130633, 'weight': 281.1138559374119}), ('0', '3', {'pheromone': 2.0788686828312823e-05, 'weight': 395.6008088970497}), ('0', '4', {'pheromone': 3.622976025985899e-05, 'weight': 291.2043955712207}), ('0', '5', {'pheromone': 7.460483618897342e-05, 'weight': 326.266762021509})]\n"
     ]
    }
   ],
   "source": [
    "def rename_cost_weight(G):\n",
    "    # Iterate through all edges in G\n",
    "    for u, v, attrs in G.edges(data=True):\n",
    "        if 'cost' in attrs:\n",
    "            # Rename 'cost' to 'weight'\n",
    "            attrs['weight'] = attrs.pop('cost')\n",
    "\n",
    "# # Check the first 5 edges to ensure 'cost' has been renamed to 'weight'\n",
    "rename_cost_weight(g_berlin)\n",
    "print(list(g_berlin.edges(data=True))[:5])\n",
    "rename_cost_weight(g_brazil)\n",
    "rename_cost_weight(g_brg)\n",
    "rename_cost_weight(g_gr)\n",
    "rename_cost_weight(g_pr)\n"
   ]
  },
  {
   "cell_type": "code",
   "execution_count": 16,
   "id": "32705b7b-d9da-4e3b-b48b-31c8044693b5",
   "metadata": {},
   "outputs": [],
   "source": [
    "tour = solver.solve(g_berlin, colony, limit=100)"
   ]
  },
  {
   "cell_type": "code",
   "execution_count": 17,
   "id": "33da5754-3347-437e-8750-d5a064a18aa6",
   "metadata": {},
   "outputs": [
    {
     "data": {
      "text/plain": [
       "7570.497072025889"
      ]
     },
     "execution_count": 17,
     "metadata": {},
     "output_type": "execute_result"
    }
   ],
   "source": [
    "tour.cost"
   ]
  },
  {
   "cell_type": "code",
   "execution_count": 18,
   "id": "a95055a5-adce-4950-a096-72c5a4f2eade",
   "metadata": {},
   "outputs": [
    {
     "data": {
      "text/plain": [
       "7570.497072025889\t0,21,30,17,2,16,20,41,1,6,29,22,19,49,28,15,45,43,33,34,35,38,39,37,36,47,23,4,14,5,3,24,11,27,26,25,46,12,13,51,10,50,32,42,9,8,7,40,18,44,31,48"
      ]
     },
     "execution_count": 18,
     "metadata": {},
     "output_type": "execute_result"
    }
   ],
   "source": [
    "rhos = linspace(0,0.1,0.02)\n",
    "for i in rhos:\n",
    "    "
   ]
  }
 ],
 "metadata": {
  "kernelspec": {
   "display_name": "Python 3 (ipykernel)",
   "language": "python",
   "name": "python3"
  },
  "language_info": {
   "codemirror_mode": {
    "name": "ipython",
    "version": 3
   },
   "file_extension": ".py",
   "mimetype": "text/x-python",
   "name": "python",
   "nbconvert_exporter": "python",
   "pygments_lexer": "ipython3",
   "version": "3.11.10"
  }
 },
 "nbformat": 4,
 "nbformat_minor": 5
}
