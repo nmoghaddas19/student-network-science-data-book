{
 "cells": [
  {
   "cell_type": "code",
   "execution_count": 1,
   "id": "7f00636a-07ac-47aa-a989-c5ddf4f1ef3c",
   "metadata": {},
   "outputs": [
    {
     "ename": "ModuleNotFoundError",
     "evalue": "No module named 'acopy'",
     "output_type": "error",
     "traceback": [
      "\u001b[0;31m---------------------------------------------------------------------------\u001b[0m",
      "\u001b[0;31mModuleNotFoundError\u001b[0m                       Traceback (most recent call last)",
      "Cell \u001b[0;32mIn[1], line 2\u001b[0m\n\u001b[1;32m      1\u001b[0m \u001b[38;5;28;01mimport\u001b[39;00m \u001b[38;5;21;01mnetworkx\u001b[39;00m \u001b[38;5;28;01mas\u001b[39;00m \u001b[38;5;21;01mnx\u001b[39;00m\n\u001b[0;32m----> 2\u001b[0m \u001b[38;5;28;01mimport\u001b[39;00m \u001b[38;5;21;01macopy\u001b[39;00m\n\u001b[1;32m      3\u001b[0m \u001b[38;5;28;01mimport\u001b[39;00m \u001b[38;5;21;01mtime\u001b[39;00m\n\u001b[1;32m      4\u001b[0m \u001b[38;5;28;01mimport\u001b[39;00m \u001b[38;5;21;01mmatplotlib\u001b[39;00m\u001b[38;5;21;01m.\u001b[39;00m\u001b[38;5;21;01mpyplot\u001b[39;00m \u001b[38;5;28;01mas\u001b[39;00m \u001b[38;5;21;01mplt\u001b[39;00m\n",
      "\u001b[0;31mModuleNotFoundError\u001b[0m: No module named 'acopy'"
     ]
    }
   ],
   "source": [
    "import networkx as nx\n",
    "import acopy\n",
    "import time\n",
    "import matplotlib.pyplot as plt\n",
    "import numpy as np"
   ]
  },
  {
   "cell_type": "markdown",
   "id": "d7e04f73-53c3-4835-88f1-a61c88d077c9",
   "metadata": {},
   "source": [
    "## Question 2"
   ]
  },
  {
   "cell_type": "markdown",
   "id": "7401565b-aec3-4aa7-bc80-065e93bcc249",
   "metadata": {},
   "source": [
    "It seems like acopy needs distances to be coded as 'weight' so I need to rename the 'cost' attribute to 'weight'"
   ]
  },
  {
   "cell_type": "markdown",
   "id": "2ff03a4d-0ff1-442a-9064-39c99ab49bdc",
   "metadata": {},
   "source": [
    "#### Question 2b"
   ]
  },
  {
   "cell_type": "code",
   "execution_count": 3,
   "id": "98858be7-c085-48bb-aca6-ca465aba201d",
   "metadata": {},
   "outputs": [
    {
     "name": "stdout",
     "output_type": "stream",
     "text": [
      "g_berlin has 52 nodes and 2652 edges\n",
      "g_brazil has 58 nodes and 3306 edges\n",
      "g_brg has 180 nodes and 32220 edges\n",
      "g_gr has 229 nodes and 52212 edges\n",
      "g_pr has 439 nodes and 192282 edges\n"
     ]
    }
   ],
   "source": [
    "g_berlin = nx.read_gml('../../data/tsp/../../data/tsp/berlin52.gml')\n",
    "g_brazil = nx.read_gml('../../data/tsp/../../data/tsp/brazil58.gml')\n",
    "g_brg = nx.read_gml('../../data/tsp/../../data/tsp/brg180.gml')\n",
    "g_gr = nx.read_gml('../../data/tsp/../../data/tsp/gr229.gml')\n",
    "g_pr = nx.read_gml('../../data/tsp/../../data/tsp/pr439.gml')\n",
    "\n",
    "print('g_berlin has', g_berlin.number_of_nodes(), 'nodes and', g_berlin.number_of_edges(), 'edges')\n",
    "print('g_brazil has', g_brazil.number_of_nodes(), 'nodes and', g_brazil.number_of_edges(), 'edges')\n",
    "print('g_brg has', g_brg.number_of_nodes(), 'nodes and', g_brg.number_of_edges(), 'edges')\n",
    "print('g_gr has', g_gr.number_of_nodes(), 'nodes and', g_gr.number_of_edges(), 'edges')\n",
    "print('g_pr has', g_pr.number_of_nodes(), 'nodes and', g_pr.number_of_edges(), 'edges')"
   ]
  },
  {
   "cell_type": "markdown",
   "id": "c4551d67-4146-4c66-8665-e754737f8152",
   "metadata": {},
   "source": [
    "#### Question 2d"
   ]
  },
  {
   "cell_type": "code",
   "execution_count": 23,
   "id": "a2eef158-3e59-4116-861b-e8a87e1825b8",
   "metadata": {},
   "outputs": [
    {
     "name": "stdout",
     "output_type": "stream",
     "text": [
      "[('0', '1', {'pheromone': 0.00022344521551333316, 'weight': 666.1080993352356}), ('0', '2', {'pheromone': 0.0021771484545130633, 'weight': 281.1138559374119}), ('0', '3', {'pheromone': 2.0788686828312823e-05, 'weight': 395.6008088970497}), ('0', '4', {'pheromone': 3.622976025985899e-05, 'weight': 291.2043955712207}), ('0', '5', {'pheromone': 7.460483618897342e-05, 'weight': 326.266762021509})]\n"
     ]
    }
   ],
   "source": [
    "def rename_cost_weight(G):\n",
    "    # Iterate through all edges in G\n",
    "    for u, v, attrs in G.edges(data=True):\n",
    "        if 'cost' in attrs:\n",
    "            # Rename 'cost' to 'weight'\n",
    "            attrs['weight'] = attrs.pop('cost')\n",
    "\n",
    "# # Check the first 5 edges to ensure 'cost' has been renamed to 'weight'\n",
    "rename_cost_weight(g_berlin)\n",
    "print(list(g_berlin.edges(data=True))[:5])\n",
    "rename_cost_weight(g_brazil)\n",
    "rename_cost_weight(g_brg)\n",
    "rename_cost_weight(g_gr)\n",
    "rename_cost_weight(g_pr)\n"
   ]
  },
  {
   "cell_type": "code",
   "execution_count": 33,
   "id": "f4bbe775-1ff8-498e-bda1-f87d5f77608a",
   "metadata": {},
   "outputs": [],
   "source": [
    "# for now just choosing fairly random params based on \n",
    "# alpha affects pheromone importance\n",
    "# beta affects distance/weight importance\n",
    "# rho is pheromone evaporation\n",
    "# Q is amount of pheromone ants release \n",
    "solver = acopy.Solver(rho=.03, q=1)\n",
    "colony = acopy.Colony(alpha=1, beta=5) "
   ]
  },
  {
   "cell_type": "code",
   "execution_count": 68,
   "id": "32705b7b-d9da-4e3b-b48b-31c8044693b5",
   "metadata": {},
   "outputs": [
    {
     "name": "stdout",
     "output_type": "stream",
     "text": [
      "CPU times: user 1min 38s, sys: 8.98 ms, total: 1min 38s\n",
      "Wall time: 1min 38s\n"
     ]
    }
   ],
   "source": [
    "%%time\n",
    "tour = solver.solve(g_gr, colony, limit=10, gen_size = 25 \n",
    "                   )"
   ]
  },
  {
   "cell_type": "code",
   "execution_count": 61,
   "id": "33da5754-3347-437e-8750-d5a064a18aa6",
   "metadata": {},
   "outputs": [
    {
     "data": {
      "text/plain": [
       "7886.40394663114"
      ]
     },
     "execution_count": 61,
     "metadata": {},
     "output_type": "execute_result"
    }
   ],
   "source": [
    "tour.cost"
   ]
  },
  {
   "cell_type": "markdown",
   "id": "9cd94c97-d1a5-4d69-a97c-d547c03c021b",
   "metadata": {},
   "source": [
    "#### Question 2e"
   ]
  },
  {
   "cell_type": "code",
   "execution_count": 3,
   "id": "a95055a5-adce-4950-a096-72c5a4f2eade",
   "metadata": {},
   "outputs": [
    {
     "ename": "NameError",
     "evalue": "name 'g_berlin' is not defined",
     "output_type": "error",
     "traceback": [
      "\u001b[0;31m---------------------------------------------------------------------------\u001b[0m",
      "\u001b[0;31mNameError\u001b[0m                                 Traceback (most recent call last)",
      "Cell \u001b[0;32mIn[3], line 3\u001b[0m\n\u001b[1;32m      1\u001b[0m \u001b[38;5;66;03m# todo: average over multiple iterations\u001b[39;00m\n\u001b[1;32m      2\u001b[0m times \u001b[38;5;241m=\u001b[39m []\n\u001b[0;32m----> 3\u001b[0m graphs \u001b[38;5;241m=\u001b[39m [g_berlin, g_brazil, g_brg, g_gr, g_pr]\n\u001b[1;32m      4\u001b[0m \u001b[38;5;28;01mfor\u001b[39;00m g \u001b[38;5;129;01min\u001b[39;00m graphs:\n\u001b[1;32m      5\u001b[0m     start_time \u001b[38;5;241m=\u001b[39m time\u001b[38;5;241m.\u001b[39mtime()\n",
      "\u001b[0;31mNameError\u001b[0m: name 'g_berlin' is not defined"
     ]
    }
   ],
   "source": [
    "# todo: average over multiple iterations\n",
    "times = []\n",
    "graphs = [g_berlin, g_brazil, g_brg, g_gr, g_pr]\n",
    "for g in graphs:\n",
    "    start_time = time.time()\n",
    "    solver = acopy.Solver(rho=0.03, q=1)\n",
    "    colony = acopy.Colony(alpha=1, beta=5) \n",
    "    tour = solver.solve(g, colony, limit=10, gen_size = 25)\n",
    "    end_time = time.time()\n",
    "    iteration_time = end_time - start_time\n",
    "    times.append(iteration_time)"
   ]
  },
  {
   "cell_type": "code",
   "execution_count": 70,
   "id": "47417ff8-868b-4b47-9fc7-bf1a13f77458",
   "metadata": {},
   "outputs": [
    {
     "data": {
      "text/plain": [
       "11.833333333333334"
      ]
     },
     "execution_count": 70,
     "metadata": {},
     "output_type": "execute_result"
    }
   ],
   "source": [
    "710/60"
   ]
  },
  {
   "cell_type": "code",
   "execution_count": 71,
   "id": "fffd6c00-5ff4-47ed-99b1-befb3dfc6dd9",
   "metadata": {},
   "outputs": [
    {
     "data": {
      "text/plain": [
       "[1.1383576393127441,\n",
       " 1.5274763107299805,\n",
       " 42.30398106575012,\n",
       " 82.89480423927307,\n",
       " 624.7210221290588]"
      ]
     },
     "execution_count": 71,
     "metadata": {},
     "output_type": "execute_result"
    }
   ],
   "source": [
    "times"
   ]
  },
  {
   "cell_type": "code",
   "execution_count": 2,
   "id": "490bddf6-5dcd-4aa9-a627-0a59f0090a8b",
   "metadata": {},
   "outputs": [
    {
     "ename": "NameError",
     "evalue": "name 'graphs' is not defined",
     "output_type": "error",
     "traceback": [
      "\u001b[0;31m---------------------------------------------------------------------------\u001b[0m",
      "\u001b[0;31mNameError\u001b[0m                                 Traceback (most recent call last)",
      "Cell \u001b[0;32mIn[2], line 1\u001b[0m\n\u001b[0;32m----> 1\u001b[0m g_sizes \u001b[38;5;241m=\u001b[39m [g\u001b[38;5;241m.\u001b[39mnumber_of_nodes() \u001b[38;5;28;01mfor\u001b[39;00m g \u001b[38;5;129;01min\u001b[39;00m graphs]\n\u001b[1;32m      3\u001b[0m fig, ax \u001b[38;5;241m=\u001b[39m plt\u001b[38;5;241m.\u001b[39msubplots(\u001b[38;5;241m1\u001b[39m,\u001b[38;5;241m1\u001b[39m,figsize\u001b[38;5;241m=\u001b[39m(\u001b[38;5;241m2.5\u001b[39m,\u001b[38;5;241m2\u001b[39m),dpi\u001b[38;5;241m=\u001b[39m\u001b[38;5;241m200\u001b[39m)\n\u001b[1;32m      4\u001b[0m ax\u001b[38;5;241m.\u001b[39mplot(g_sizes, times,\u001b[38;5;124m'\u001b[39m\u001b[38;5;124mo\u001b[39m\u001b[38;5;124m'\u001b[39m, color\u001b[38;5;241m=\u001b[39m\u001b[38;5;124m'\u001b[39m\u001b[38;5;124mfirebrick\u001b[39m\u001b[38;5;124m'\u001b[39m, alpha\u001b[38;5;241m=\u001b[39m\u001b[38;5;241m0.8\u001b[39m,  ms \u001b[38;5;241m=\u001b[39m \u001b[38;5;241m4\u001b[39m)\n",
      "\u001b[0;31mNameError\u001b[0m: name 'graphs' is not defined"
     ]
    }
   ],
   "source": [
    "g_sizes = [g.number_of_nodes() for g in graphs]\n",
    "\n",
    "fig, ax = plt.subplots(1,1,figsize=(2.5,2),dpi=200)\n",
    "ax.plot(g_sizes, times,'o', color='firebrick', alpha=0.8,  ms = 4)\n",
    "\n",
    "ax.set_xlabel(\"Graph size\",fontsize='small')\n",
    "ax.set_ylabel(\"Time\",fontsize='small')\n",
    "ax.grid(linewidth=0.7, color='#999999', alpha=0.15, linestyle='-')\n",
    "ax.set_title('Time complexity')\n",
    "\n",
    "# Generate points for polynomial and exponential time\n",
    "g_sizes_extended = np.linspace(min(g_sizes), max(g_sizes), 100)\n",
    "\n",
    "# Polynomial time (e.g., O(n^2))\n",
    "polynomial_time = 0.001 * g_sizes_extended ** 2\n",
    "\n",
    "# Exponential time (e.g., O(2^n))\n",
    "exponential_time = 1e-129 * 2 ** g_sizes_extended\n",
    "\n",
    "ax.plot(g_sizes_extended, polynomial_time, label='Polynomial (n^2)', linestyle='--')\n",
    "ax.plot(g_sizes_extended, exponential_time, label='Exponential (2^n)', linestyle='-.')\n",
    "\n",
    "plt.savefig('figs/tsp_timecomplexity.pdf', dpi=425, bbox_inches='tight')\n",
    "plt.savefig('figs/tsp_timecomplexity.png', dpi=425, bbox_inches='tight')"
   ]
  },
  {
   "cell_type": "markdown",
   "id": "71523282-b650-4be7-a9ed-2a4b187ca418",
   "metadata": {},
   "source": [
    "## Question 3"
   ]
  }
 ],
 "metadata": {
  "kernelspec": {
   "display_name": "Python 3 (ipykernel)",
   "language": "python",
   "name": "python3"
  },
  "language_info": {
   "codemirror_mode": {
    "name": "ipython",
    "version": 3
   },
   "file_extension": ".py",
   "mimetype": "text/x-python",
   "name": "python",
   "nbconvert_exporter": "python",
   "pygments_lexer": "ipython3",
   "version": "3.12.4"
  }
 },
 "nbformat": 4,
 "nbformat_minor": 5
}
